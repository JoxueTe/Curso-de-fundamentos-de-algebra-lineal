{
 "cells": [
  {
   "cell_type": "code",
   "execution_count": 1,
   "id": "f1d2d9a5",
   "metadata": {},
   "outputs": [
    {
     "name": "stdout",
     "output_type": "stream",
     "text": [
      "5.6789\n"
     ]
    }
   ],
   "source": [
    "escalar = 5.6789 # En matematicas escalar es simplemente un numero\n",
    "print(escalar)"
   ]
  },
  {
   "cell_type": "code",
   "execution_count": 6,
   "id": "1ea7924b",
   "metadata": {},
   "outputs": [
    {
     "name": "stdout",
     "output_type": "stream",
     "text": [
      "True\n",
      "<class 'bool'>\n"
     ]
    }
   ],
   "source": [
    "escalar_python = True # En python un escalar puede ser un entero, floatante, numero complejo, string, null\n",
    "print(escalar_python)\n",
    "print(type(escalar_python))"
   ]
  },
  {
   "cell_type": "code",
   "execution_count": 7,
   "id": "5bc483c6",
   "metadata": {},
   "outputs": [],
   "source": [
    "import numpy as np"
   ]
  },
  {
   "cell_type": "code",
   "execution_count": 9,
   "id": "c2a001c9",
   "metadata": {},
   "outputs": [
    {
     "name": "stdout",
     "output_type": "stream",
     "text": [
      "[1 2 3 4]\n"
     ]
    }
   ],
   "source": [
    "vector = np.array([1,2,3,4])\n",
    "print(vector)"
   ]
  },
  {
   "cell_type": "code",
   "execution_count": 11,
   "id": "b2552b5d",
   "metadata": {},
   "outputs": [
    {
     "name": "stdout",
     "output_type": "stream",
     "text": [
      "[[1 2 3]\n",
      " [4 5 6]\n",
      " [7 8 9]]\n"
     ]
    }
   ],
   "source": [
    "matriz = np.array([[1,2,3],[4,5,6],[7,8,9]])\n",
    "print(matriz)"
   ]
  },
  {
   "cell_type": "code",
   "execution_count": 16,
   "id": "385a4063",
   "metadata": {},
   "outputs": [
    {
     "name": "stdout",
     "output_type": "stream",
     "text": [
      "[[[  0   0   0]\n",
      "  [  0   0   0]\n",
      "  [  0   0   0]]\n",
      "\n",
      " [[128 128 128]\n",
      "  [128 128 128]\n",
      "  [128 128 128]]\n",
      "\n",
      " [[255 255 255]\n",
      "  [255 255 255]\n",
      "  [255 255 255]]]\n"
     ]
    }
   ],
   "source": [
    "tensor = np.array([\n",
    "                  [[0,0,0],[0,0,0],[0,0,0]],\n",
    "                  [[128,128,128],[128,128,128],[128,128,128]],\n",
    "                  [[255,255,255],[255,255,255],[255,255,255]],\n",
    "                  ])\n",
    "print(tensor)"
   ]
  },
  {
   "cell_type": "code",
   "execution_count": 14,
   "id": "6a3f7b07",
   "metadata": {},
   "outputs": [],
   "source": [
    "%matplotlib inline \n",
    "\n",
    "import matplotlib.pyplot as plt"
   ]
  },
  {
   "cell_type": "code",
   "execution_count": 17,
   "id": "c118605d",
   "metadata": {},
   "outputs": [
    {
     "data": {
      "image/png": "[encoded data removed]",
      "text/plain": [
       "<Figure size 640x480 with 1 Axes>"
      ]
     },
     "metadata": {},
     "output_type": "display_data"
    }
   ],
   "source": [
    "plt.imshow(tensor, interpolation='nearest')\n",
    "plt.show()"
   ]
  },
  {
   "cell_type": "code",
   "execution_count": 35,
   "id": "63f0002d",
   "metadata": {},
   "outputs": [
    {
     "name": "stdout",
     "output_type": "stream",
     "text": [
      "Escalar:\n",
      " 22 \n",
      "\n",
      "Vector:\n",
      " [2 3 5 7] \n",
      "\n",
      "Matriz:\n",
      " [[1 2 3]\n",
      " [4 5 6]] \n",
      "\n",
      "Tensor:\n"
     ]
    },
    {
     "data": {
      "image/png": "[encoded data removed]",
      "text/plain": [
       "<Figure size 640x480 with 1 Axes>"
      ]
     },
     "metadata": {},
     "output_type": "display_data"
    }
   ],
   "source": [
    "#reto de la clase\n",
    "escalar_reto = 22\n",
    "vector_reto = np.array([2,3,5,7])\n",
    "matriz_reto = np.array([[1,2,3],[4,5,6]])\n",
    "tensor_reto = np.array([\n",
    "                  [[255,255,255],[255,255,255],[255,255,255]],\n",
    "                  [[0,0,0],[0,0,0],[0,0,0]],\n",
    "                  [[128,128,128],[128,128,128],[128,128,128]],\n",
    "])\n",
    "\n",
    "print('Escalar:\\n', escalar_reto, '\\n')\n",
    "print('Vector:\\n', vector_reto, '\\n')\n",
    "print('Matriz:\\n', matriz_reto, '\\n\\nTensor:')\n",
    "\n",
    "plt.imshow(tensor_reto, interpolation='nearest')\n",
    "plt.show()"
   ]
  },
  {
   "cell_type": "code",
   "execution_count": null,
   "id": "e5df5275",
   "metadata": {},
   "outputs": [],
   "source": []
  }
 ],
 "metadata": {
  "kernelspec": {
   "display_name": "Python 3 (ipykernel)",
   "language": "python",
   "name": "python3"
  },
  "language_info": {
   "codemirror_mode": {
    "name": "ipython",
    "version": 3
   },
   "file_extension": ".py",
   "mimetype": "text/x-python",
   "name": "python",
   "nbconvert_exporter": "python",
   "pygments_lexer": "ipython3",
   "version": "3.9.15"
  }
 },
 "nbformat": 4,
 "nbformat_minor": 5
}
